{
 "cells": [
  {
   "cell_type": "code",
   "execution_count": 2,
   "metadata": {},
   "outputs": [],
   "source": [
    "import pandas as pd\n",
    "import numpy as np"
   ]
  },
  {
   "cell_type": "code",
   "execution_count": 3,
   "metadata": {},
   "outputs": [
    {
     "name": "stdout",
     "output_type": "stream",
     "text": [
      "<class 'pandas.core.frame.DataFrame'>\n",
      "Index: 5000 entries, 0 to 4999\n",
      "Data columns (total 23 columns):\n",
      " #   Column              Non-Null Count  Dtype  \n",
      "---  ------              --------------  -----  \n",
      " 0   Date                5000 non-null   object \n",
      " 1   ProductName         5000 non-null   object \n",
      " 2   ProductCategory     5000 non-null   object \n",
      " 3   ProductSubCategory  5000 non-null   object \n",
      " 4   ProductPrice        5000 non-null   object \n",
      " 5   CustomerName        5000 non-null   object \n",
      " 6   CustomerEmail       4493 non-null   object \n",
      " 7   CustomerAddress     5000 non-null   object \n",
      " 8   CustomerPhone       5000 non-null   object \n",
      " 9   CustomerSegment     5000 non-null   object \n",
      " 10  SupplierName        5000 non-null   object \n",
      " 11  SupplierLocation    5000 non-null   object \n",
      " 12  SupplierContact     4516 non-null   object \n",
      " 13  ShipperName         5000 non-null   object \n",
      " 14  ShippingMethod      5000 non-null   object \n",
      " 15  QuantitySold        5000 non-null   int64  \n",
      " 16  TotalAmount         5000 non-null   float64\n",
      " 17  DiscountAmount      5000 non-null   float64\n",
      " 18  NetAmount           5000 non-null   float64\n",
      " 19  StockReceived       5000 non-null   int64  \n",
      " 20  StockSold           5000 non-null   int64  \n",
      " 21  StockOnHand         5000 non-null   int64  \n",
      " 22  ProductID           5000 non-null   object \n",
      "dtypes: float64(3), int64(4), object(16)\n",
      "memory usage: 937.5+ KB\n"
     ]
    }
   ],
   "source": [
    "# read in the data\n",
    "df = pd.read_csv('data/ecommerce-data.csv')\n",
    "df['ProductID'] = df['ProductName'] + df['ProductCategory'] + df['ProductSubCategory']\n",
    "df.drop_duplicates(inplace=True)\n",
    "df.info()"
   ]
  },
  {
   "cell_type": "code",
   "execution_count": 3,
   "metadata": {},
   "outputs": [
    {
     "data": {
      "text/plain": [
       "Date                    0\n",
       "ProductName             0\n",
       "ProductCategory         0\n",
       "ProductSubCategory      0\n",
       "ProductPrice            0\n",
       "CustomerName            0\n",
       "CustomerEmail         507\n",
       "CustomerAddress         0\n",
       "CustomerPhone           0\n",
       "CustomerSegment         0\n",
       "SupplierName            0\n",
       "SupplierLocation        0\n",
       "SupplierContact       484\n",
       "ShipperName             0\n",
       "ShippingMethod          0\n",
       "QuantitySold            0\n",
       "TotalAmount             0\n",
       "DiscountAmount          0\n",
       "NetAmount               0\n",
       "StockReceived           0\n",
       "StockSold               0\n",
       "StockOnHand             0\n",
       "dtype: int64"
      ]
     },
     "execution_count": 3,
     "metadata": {},
     "output_type": "execute_result"
    }
   ],
   "source": [
    "# Check for nulls\n",
    "df.isnull().sum()"
   ]
  },
  {
   "cell_type": "code",
   "execution_count": 10,
   "metadata": {},
   "outputs": [
    {
     "data": {
      "text/html": [
       "<div>\n",
       "<style scoped>\n",
       "    .dataframe tbody tr th:only-of-type {\n",
       "        vertical-align: middle;\n",
       "    }\n",
       "\n",
       "    .dataframe tbody tr th {\n",
       "        vertical-align: top;\n",
       "    }\n",
       "\n",
       "    .dataframe thead th {\n",
       "        text-align: right;\n",
       "    }\n",
       "</style>\n",
       "<table border=\"1\" class=\"dataframe\">\n",
       "  <thead>\n",
       "    <tr style=\"text-align: right;\">\n",
       "      <th></th>\n",
       "      <th>Date</th>\n",
       "      <th>ProductName</th>\n",
       "      <th>ProductCategory</th>\n",
       "      <th>ProductSubCategory</th>\n",
       "      <th>ProductPrice</th>\n",
       "      <th>CustomerName</th>\n",
       "      <th>CustomerEmail</th>\n",
       "      <th>CustomerAddress</th>\n",
       "      <th>CustomerPhone</th>\n",
       "      <th>CustomerSegment</th>\n",
       "      <th>...</th>\n",
       "      <th>SupplierContact</th>\n",
       "      <th>ShipperName</th>\n",
       "      <th>ShippingMethod</th>\n",
       "      <th>QuantitySold</th>\n",
       "      <th>TotalAmount</th>\n",
       "      <th>DiscountAmount</th>\n",
       "      <th>NetAmount</th>\n",
       "      <th>StockReceived</th>\n",
       "      <th>StockSold</th>\n",
       "      <th>StockOnHand</th>\n",
       "    </tr>\n",
       "  </thead>\n",
       "  <tbody>\n",
       "    <tr>\n",
       "      <th>0</th>\n",
       "      <td>2023-09-14</td>\n",
       "      <td>Nathaniel</td>\n",
       "      <td>Electronics</td>\n",
       "      <td>Camera</td>\n",
       "      <td>0.01</td>\n",
       "      <td>Colleen Kelly</td>\n",
       "      <td>maryhurst@example.org</td>\n",
       "      <td>354 Mcdowell Turnpike, Port Charles, CT 95318</td>\n",
       "      <td>908.610.2711x8507</td>\n",
       "      <td>Silver</td>\n",
       "      <td>...</td>\n",
       "      <td>6538306661</td>\n",
       "      <td>and Sons</td>\n",
       "      <td>Ground</td>\n",
       "      <td>49</td>\n",
       "      <td>31965.15</td>\n",
       "      <td>121.07</td>\n",
       "      <td>31844.08</td>\n",
       "      <td>475</td>\n",
       "      <td>127</td>\n",
       "      <td>348</td>\n",
       "    </tr>\n",
       "    <tr>\n",
       "      <th>1</th>\n",
       "      <td>2023-02-11</td>\n",
       "      <td>NonExistentProduct</td>\n",
       "      <td>Electronics</td>\n",
       "      <td>Mobile</td>\n",
       "      <td>847.43</td>\n",
       "      <td>Joel Wright</td>\n",
       "      <td>sandersvictoria@example.org</td>\n",
       "      <td>24740 Fox Villages, New Tracie, MA 53038</td>\n",
       "      <td>+1-408-938-0389x952</td>\n",
       "      <td>Gold</td>\n",
       "      <td>...</td>\n",
       "      <td>NaN</td>\n",
       "      <td>PLC</td>\n",
       "      <td>Air</td>\n",
       "      <td>73</td>\n",
       "      <td>61862.39</td>\n",
       "      <td>91.09</td>\n",
       "      <td>61771.30</td>\n",
       "      <td>487</td>\n",
       "      <td>243</td>\n",
       "      <td>244</td>\n",
       "    </tr>\n",
       "    <tr>\n",
       "      <th>2</th>\n",
       "      <td>2021-11-12</td>\n",
       "      <td>Angela</td>\n",
       "      <td>InvalidCategory</td>\n",
       "      <td>Action Figures</td>\n",
       "      <td>386.57</td>\n",
       "      <td>Thomas Sawyer</td>\n",
       "      <td>ospence@example.net</td>\n",
       "      <td>769 Joe Trail, East Terri, CA 43813</td>\n",
       "      <td>001-929-516-1919x39288</td>\n",
       "      <td>Gold</td>\n",
       "      <td>...</td>\n",
       "      <td>+1-588-750-7646</td>\n",
       "      <td>PLC</td>\n",
       "      <td>Sea</td>\n",
       "      <td>89</td>\n",
       "      <td>34404.73</td>\n",
       "      <td>10.56</td>\n",
       "      <td>34394.17</td>\n",
       "      <td>341</td>\n",
       "      <td>188</td>\n",
       "      <td>153</td>\n",
       "    </tr>\n",
       "    <tr>\n",
       "      <th>3</th>\n",
       "      <td>11-15-2021</td>\n",
       "      <td>Amy</td>\n",
       "      <td>Home &amp; Garden</td>\n",
       "      <td>Decor</td>\n",
       "      <td>364.01</td>\n",
       "      <td>Tyler Gardner</td>\n",
       "      <td>christopherjohnson@example.com</td>\n",
       "      <td>27783 Olivia Centers, Williamsmouth, AL 09809</td>\n",
       "      <td>8907712983</td>\n",
       "      <td>Gold</td>\n",
       "      <td>...</td>\n",
       "      <td>805-650-6257x5876</td>\n",
       "      <td>LLC</td>\n",
       "      <td>Air</td>\n",
       "      <td>3</td>\n",
       "      <td>1092.03</td>\n",
       "      <td>69.06</td>\n",
       "      <td>1022.97</td>\n",
       "      <td>500</td>\n",
       "      <td>124</td>\n",
       "      <td>376</td>\n",
       "    </tr>\n",
       "    <tr>\n",
       "      <th>4</th>\n",
       "      <td>2023-04-22</td>\n",
       "      <td>Nathaniel</td>\n",
       "      <td>Electronics</td>\n",
       "      <td>Camera</td>\n",
       "      <td>652.35</td>\n",
       "      <td>Meagan Peterson</td>\n",
       "      <td>epowell@example.net</td>\n",
       "      <td>25357 Blackwell Locks, Andreabury, MH 27857</td>\n",
       "      <td>9999921886</td>\n",
       "      <td>Gold</td>\n",
       "      <td>...</td>\n",
       "      <td>6538306661</td>\n",
       "      <td>Ltd</td>\n",
       "      <td>Sea</td>\n",
       "      <td>75</td>\n",
       "      <td>48926.25</td>\n",
       "      <td>137.17</td>\n",
       "      <td>48789.08</td>\n",
       "      <td>429</td>\n",
       "      <td>351</td>\n",
       "      <td>78</td>\n",
       "    </tr>\n",
       "  </tbody>\n",
       "</table>\n",
       "<p>5 rows × 22 columns</p>\n",
       "</div>"
      ],
      "text/plain": [
       "         Date         ProductName  ProductCategory ProductSubCategory   \n",
       "0  2023-09-14           Nathaniel      Electronics             Camera  \\\n",
       "1  2023-02-11  NonExistentProduct      Electronics             Mobile   \n",
       "2  2021-11-12              Angela  InvalidCategory     Action Figures   \n",
       "3  11-15-2021                 Amy    Home & Garden              Decor   \n",
       "4  2023-04-22           Nathaniel      Electronics             Camera   \n",
       "\n",
       "  ProductPrice     CustomerName                   CustomerEmail   \n",
       "0         0.01    Colleen Kelly           maryhurst@example.org  \\\n",
       "1       847.43      Joel Wright     sandersvictoria@example.org   \n",
       "2       386.57    Thomas Sawyer             ospence@example.net   \n",
       "3       364.01    Tyler Gardner  christopherjohnson@example.com   \n",
       "4       652.35  Meagan Peterson             epowell@example.net   \n",
       "\n",
       "                                 CustomerAddress           CustomerPhone   \n",
       "0  354 Mcdowell Turnpike, Port Charles, CT 95318       908.610.2711x8507  \\\n",
       "1       24740 Fox Villages, New Tracie, MA 53038     +1-408-938-0389x952   \n",
       "2            769 Joe Trail, East Terri, CA 43813  001-929-516-1919x39288   \n",
       "3  27783 Olivia Centers, Williamsmouth, AL 09809              8907712983   \n",
       "4    25357 Blackwell Locks, Andreabury, MH 27857              9999921886   \n",
       "\n",
       "  CustomerSegment  ...    SupplierContact ShipperName ShippingMethod   \n",
       "0          Silver  ...         6538306661    and Sons         Ground  \\\n",
       "1            Gold  ...                NaN         PLC            Air   \n",
       "2            Gold  ...    +1-588-750-7646         PLC            Sea   \n",
       "3            Gold  ...  805-650-6257x5876         LLC            Air   \n",
       "4            Gold  ...         6538306661         Ltd            Sea   \n",
       "\n",
       "  QuantitySold TotalAmount  DiscountAmount  NetAmount  StockReceived   \n",
       "0           49    31965.15          121.07   31844.08            475  \\\n",
       "1           73    61862.39           91.09   61771.30            487   \n",
       "2           89    34404.73           10.56   34394.17            341   \n",
       "3            3     1092.03           69.06    1022.97            500   \n",
       "4           75    48926.25          137.17   48789.08            429   \n",
       "\n",
       "   StockSold  StockOnHand  \n",
       "0        127          348  \n",
       "1        243          244  \n",
       "2        188          153  \n",
       "3        124          376  \n",
       "4        351           78  \n",
       "\n",
       "[5 rows x 22 columns]"
      ]
     },
     "execution_count": 10,
     "metadata": {},
     "output_type": "execute_result"
    }
   ],
   "source": [
    "df.head()"
   ]
  },
  {
   "cell_type": "markdown",
   "metadata": {},
   "source": [
    "## Date exploration"
   ]
  },
  {
   "cell_type": "code",
   "execution_count": 4,
   "metadata": {},
   "outputs": [
    {
     "data": {
      "text/plain": [
       "0     2023-09-14\n",
       "1     2023-02-11\n",
       "2     2021-11-12\n",
       "3     11-15-2021\n",
       "4     2023-04-22\n",
       "5     2022-12-08\n",
       "6     2023-09-13\n",
       "7     2023-07-19\n",
       "8     2023-08-20\n",
       "9     2023-07-15\n",
       "10    09-25-2023\n",
       "11    2022-05-06\n",
       "12    2023-09-19\n",
       "13    2022-10-19\n",
       "14    2022-08-30\n",
       "15    2023-01-25\n",
       "16    2022-11-02\n",
       "17    2023-07-29\n",
       "18    2022-02-09\n",
       "19    2023-04-25\n",
       "Name: Date, dtype: object"
      ]
     },
     "execution_count": 4,
     "metadata": {},
     "output_type": "execute_result"
    }
   ],
   "source": [
    "# Check for Date column formats\n",
    "df['Date'].head(20)"
   ]
  },
  {
   "cell_type": "code",
   "execution_count": 5,
   "metadata": {},
   "outputs": [
    {
     "data": {
      "text/plain": [
       "5010"
      ]
     },
     "execution_count": 5,
     "metadata": {},
     "output_type": "execute_result"
    }
   ],
   "source": [
    "df['Date'].str.contains('-').sum() "
   ]
  },
  {
   "cell_type": "code",
   "execution_count": 7,
   "metadata": {},
   "outputs": [],
   "source": [
    "dfdate = df[df['Date'].str.contains('-')]"
   ]
  },
  {
   "cell_type": "code",
   "execution_count": 8,
   "metadata": {},
   "outputs": [
    {
     "name": "stdout",
     "output_type": "stream",
     "text": [
      "Pattern 'yyyy-mm-dd or yyyy-dd-mm': 4512 elements\n",
      "Pattern 'dd-mm-yyyy or mm-dd-yyyy': 498 elements\n"
     ]
    }
   ],
   "source": [
    "# List of possible date patterns\n",
    "date_patterns = [\n",
    "    r'^\\d{4}-\\d{2}-\\d{2}$',  # yyyy-mm-dd or yyyy-dd-mm\n",
    "    r'^\\d{2}-\\d{2}-\\d{4}$',  # dd-mm-yyyy or mm-dd-yyyy\n",
    "]\n",
    "\n",
    "# Initialize a dictionary to store the counts for the two desired patterns\n",
    "desired_pattern_counts = {\n",
    "    'yyyy-mm-dd or yyyy-dd-mm': 0,\n",
    "    'dd-mm-yyyy or mm-dd-yyyy': 0,\n",
    "}\n",
    "\n",
    "# Iterate through the patterns and count the matching elements for the desired patterns\n",
    "for pattern in date_patterns:\n",
    "    dfdate['ContainsPattern'] = dfdate['Date'].str.contains(pattern)\n",
    "    count = dfdate['ContainsPattern'].sum()\n",
    "    \n",
    "    if pattern == r'^\\d{4}-\\d{2}-\\d{2}$' :\n",
    "        desired_pattern_counts['yyyy-mm-dd or yyyy-dd-mm'] += count\n",
    "    elif pattern == r'^\\d{2}-\\d{2}-\\d{4}$':\n",
    "        desired_pattern_counts['dd-mm-yyyy or mm-dd-yyyy'] += count\n",
    "\n",
    "# Print the counts for the two desired patterns\n",
    "for pattern, count in desired_pattern_counts.items():\n",
    "    print(f\"Pattern '{pattern}': {count} elements\")\n",
    "\n",
    "# Optional: Drop the temporary 'ContainsPattern' column\n",
    "dfdate.drop(columns=['ContainsPattern'], inplace=True)\n"
   ]
  },
  {
   "cell_type": "code",
   "execution_count": 10,
   "metadata": {},
   "outputs": [
    {
     "name": "stdout",
     "output_type": "stream",
     "text": [
      "['2023' '2021' '11' '2022' '09' '10' '12' '05' '01' '03' '06' '02' '04'\n",
      " '07' '08']\n",
      "['09' '02' '11' '15' '04' '12' '07' '08' '25' '05' '10' '01' '03' '27'\n",
      " '06' '16' '14' '29' '24' '26' '21' '30' '13' '23' '18' '31' '28' '19'\n",
      " '17' '22' '20']\n",
      "['14' '11' '12' '2021' '22' '08' '13' '19' '20' '15' '2023' '06' '30' '25'\n",
      " '02' '29' '09' '17' '03' '05' '04' '28' '10' '16' '07' '31' '18' '2022'\n",
      " '21' '01' '27' '26' '23' '24']\n"
     ]
    }
   ],
   "source": [
    "# split by - and assign each elemt into a list\n",
    "datadf = pd.DataFrame()\n",
    "datadf[\"elm1\"] = df['Date'].str.split('-').str[0]\n",
    "datadf[\"elm2\"] = df['Date'].str.split('-').str[1]\n",
    "datadf[\"elm3\"] = df['Date'].str.split('-').str[2]\n",
    "\n",
    "# get unique values for each column\n",
    "print(datadf[\"elm1\"].unique())\n",
    "print(datadf[\"elm2\"].unique())\n",
    "print(datadf[\"elm3\"].unique())"
   ]
  },
  {
   "cell_type": "code",
   "execution_count": 19,
   "metadata": {},
   "outputs": [
    {
     "name": "stdout",
     "output_type": "stream",
     "text": [
      "yyyy-mm-dd \n",
      "\n",
      "['09' '02' '11' '04' '12' '07' '08' '05' '10' '01' '03' '06']\n",
      "mm-dd-yyyy \n",
      "\n",
      "['11' '09' '10' '12' '05' '01' '03' '06' '02' '04' '07' '08']\n"
     ]
    }
   ],
   "source": [
    "cat1 = datadf[datadf[\"elm1\"].str.contains('^\\d{4}')]\n",
    "cat2 = datadf[datadf[\"elm3\"].str.contains('^\\d{4}')]\n",
    "\n",
    "print(\"yyyy-mm-dd \\n\")\n",
    "print(cat1[\"elm2\"].unique())\n",
    "print(\"mm-dd-yyyy \\n\")\n",
    "print(cat2[\"elm1\"].unique())"
   ]
  },
  {
   "cell_type": "markdown",
   "metadata": {},
   "source": [
    "## ProductName & ProductCategory & ProductSubCategory exploration"
   ]
  },
  {
   "cell_type": "code",
   "execution_count": 24,
   "metadata": {},
   "outputs": [
    {
     "name": "stdout",
     "output_type": "stream",
     "text": [
      "['Nathaniel' 'NonExistentProduct' 'Angela' 'Amy' 'Justin' 'Shannon'\n",
      " 'Martha' 'Elizabeth' 'Jamie' 'Robert' 'Shawn' 'Anthony' 'Pamela' 'Fred'\n",
      " 'Wanda' 'Cynthia' 'Marvin' 'Katie' 'Tammy' 'Michael' 'Kristine']\n",
      "['Electronics' 'InvalidCategory' 'Home & Garden' 'Books' 'Clothing' 'Toys']\n",
      "['Camera' 'Mobile' 'Action Figures' 'Decor' 'Headphones' 'Gardening Tools'\n",
      " 'Fiction' 'Shirt' 'Academic' 'Educational' 'Non-fiction' 'Dolls'\n",
      " 'Furniture']\n"
     ]
    }
   ],
   "source": [
    "print(df[\"ProductName\"].unique())\n",
    "print(df[\"ProductCategory\"].unique())\n",
    "print(df[\"ProductSubCategory\"].unique())"
   ]
  },
  {
   "cell_type": "markdown",
   "metadata": {},
   "source": [
    "## ProductPrice exploration"
   ]
  },
  {
   "cell_type": "code",
   "execution_count": 32,
   "metadata": {},
   "outputs": [
    {
     "data": {
      "text/plain": [
       "count     4561.00000\n",
       "mean     11556.88205\n",
       "std      28715.89313\n",
       "min          0.01000\n",
       "25%        364.01000\n",
       "50%        652.35000\n",
       "75%        930.30000\n",
       "max      99999.99000\n",
       "Name: ProductPrice, dtype: float64"
      ]
     },
     "execution_count": 32,
     "metadata": {},
     "output_type": "execute_result"
    }
   ],
   "source": [
    "# replace the \"InvalidPrice\" with NaN\n",
    "df[\"ProductPrice\"].replace(\"InvalidPrice\", np.nan, inplace=True)\n",
    "df[\"ProductPrice\"].astype(float).describe()"
   ]
  },
  {
   "cell_type": "markdown",
   "metadata": {},
   "source": [
    "## CustomerName exploration"
   ]
  },
  {
   "cell_type": "code",
   "execution_count": 36,
   "metadata": {},
   "outputs": [
    {
     "data": {
      "text/plain": [
       "4846"
      ]
     },
     "execution_count": 36,
     "metadata": {},
     "output_type": "execute_result"
    }
   ],
   "source": [
    "len(df[\"CustomerName\"].unique())"
   ]
  },
  {
   "cell_type": "markdown",
   "metadata": {},
   "source": [
    "## CustomerEmail & CustomerAddress exploration"
   ]
  },
  {
   "cell_type": "code",
   "execution_count": 19,
   "metadata": {},
   "outputs": [
    {
     "name": "stdout",
     "output_type": "stream",
     "text": [
      "<class 'pandas.core.frame.DataFrame'>\n",
      "Index: 5000 entries, 0 to 4999\n",
      "Data columns (total 23 columns):\n",
      " #   Column              Non-Null Count  Dtype  \n",
      "---  ------              --------------  -----  \n",
      " 0   Date                5000 non-null   object \n",
      " 1   ProductName         5000 non-null   object \n",
      " 2   ProductCategory     5000 non-null   object \n",
      " 3   ProductSubCategory  5000 non-null   object \n",
      " 4   ProductPrice        5000 non-null   object \n",
      " 5   CustomerName        5000 non-null   object \n",
      " 6   CustomerEmail       4517 non-null   object \n",
      " 7   CustomerAddress     5000 non-null   object \n",
      " 8   CustomerPhone       5000 non-null   object \n",
      " 9   CustomerSegment     5000 non-null   object \n",
      " 10  SupplierName        5000 non-null   object \n",
      " 11  SupplierLocation    5000 non-null   object \n",
      " 12  SupplierContact     4516 non-null   object \n",
      " 13  ShipperName         5000 non-null   object \n",
      " 14  ShippingMethod      5000 non-null   object \n",
      " 15  QuantitySold        5000 non-null   int64  \n",
      " 16  TotalAmount         5000 non-null   float64\n",
      " 17  DiscountAmount      5000 non-null   float64\n",
      " 18  NetAmount           5000 non-null   float64\n",
      " 19  StockReceived       5000 non-null   int64  \n",
      " 20  StockSold           5000 non-null   int64  \n",
      " 21  StockOnHand         5000 non-null   int64  \n",
      " 22  CustumoerID         4493 non-null   object \n",
      "dtypes: float64(3), int64(4), object(16)\n",
      "memory usage: 937.5+ KB\n"
     ]
    }
   ],
   "source": [
    "df.drop_duplicates(keep='first', inplace=True)\n",
    "df.info()"
   ]
  },
  {
   "cell_type": "code",
   "execution_count": 20,
   "metadata": {},
   "outputs": [
    {
     "name": "stdout",
     "output_type": "stream",
     "text": [
      "4451\n",
      "5000\n"
     ]
    }
   ],
   "source": [
    "print(len(df[\"CustomerEmail\"].unique()))\n",
    "print(len(df[\"CustomerAddress\"].unique()))"
   ]
  },
  {
   "cell_type": "code",
   "execution_count": 48,
   "metadata": {},
   "outputs": [
    {
     "name": "stdout",
     "output_type": "stream",
     "text": [
      "CustomerEmail\n",
      "True    4503\n",
      "Name: count, dtype: int64\n",
      "Nulls count :  507\n"
     ]
    }
   ],
   "source": [
    "print(df['CustomerEmail'].str.contains(r'^.+@[^\\.].*\\.[a-z]{2,}$').value_counts())\n",
    "print(\"Nulls count : \" , df['CustomerEmail'].isnull().sum())"
   ]
  },
  {
   "cell_type": "code",
   "execution_count": 17,
   "metadata": {},
   "outputs": [
    {
     "data": {
      "text/plain": [
       "483"
      ]
     },
     "execution_count": 17,
     "metadata": {},
     "output_type": "execute_result"
    }
   ],
   "source": [
    "# for df[\"CustomerEmail\"] column, check if the same CustomerName has an non-null email in another row\n",
    "# if yes, replace the null with the non-null email\n",
    "# if no, replace the null with the CustomerName\n",
    "df[\"CustomerEmail\"].fillna(df.groupby(\"CustomerName\")[\"CustomerEmail\"].transform('first'), inplace=True)\n",
    "df[\"CustomerEmail\"].isna().sum()\n"
   ]
  },
  {
   "cell_type": "code",
   "execution_count": 56,
   "metadata": {},
   "outputs": [
    {
     "name": "stdout",
     "output_type": "stream",
     "text": [
      "Redundent Name per customer's mails count :  95\n",
      "Redundent Name per customer's adress count :  11\n"
     ]
    }
   ],
   "source": [
    "print(\"Redundent Name per customer's mails count : \" , len(df[df.groupby('CustomerEmail')['CustomerName'].transform('count') > 1]))\n",
    "print(\"Redundent Name per customer's adress count : \" , len(df[df.groupby('CustomerAddress')['CustomerName'].transform('count') > 1]))\n"
   ]
  },
  {
   "cell_type": "markdown",
   "metadata": {},
   "source": [
    "## CustomerPhone exploration"
   ]
  },
  {
   "cell_type": "code",
   "execution_count": 78,
   "metadata": {},
   "outputs": [
    {
     "data": {
      "text/plain": [
       "5000"
      ]
     },
     "execution_count": 78,
     "metadata": {},
     "output_type": "execute_result"
    }
   ],
   "source": [
    "len(df[\"CustomerPhone\"].unique())"
   ]
  },
  {
   "cell_type": "code",
   "execution_count": 66,
   "metadata": {},
   "outputs": [],
   "source": [
    "# drop x and whats after it\n",
    "df['CustomerPhone'] = df['CustomerPhone'].str.split('x').str[0]"
   ]
  },
  {
   "cell_type": "code",
   "execution_count": 67,
   "metadata": {},
   "outputs": [
    {
     "name": "stdout",
     "output_type": "stream",
     "text": [
      "Pattern '^\\d{3}.\\d{3}.\\d{4}$': 1983 occurrences\n",
      "Pattern '^(\\d{3}-|\\(\\d{3}\\) )?\\d{3}-\\d{4}$': 984 occurrences\n",
      "Pattern '^\\+\\d{1,2} \\(\\d{3}\\) \\d{3}-\\d{4}$': 0 occurrences\n",
      "Pattern '^\\d{3}[-.]?\\d{3}[-.]?\\d{4}$': 2380 occurrences\n",
      "Pattern '^1-800-\\d{3}-\\d{4}$': 0 occurrences\n",
      "Pattern '^(\\(\\d{3}\\) \\d{3}-\\d{4}|\\d{3}[-.]?\\d{3}[-.]?\\d{4})$': 2380 occurrences\n"
     ]
    },
    {
     "name": "stderr",
     "output_type": "stream",
     "text": [
      "C:\\Users\\YouCode\\AppData\\Local\\Temp\\ipykernel_9848\\3907370565.py:16: UserWarning: This pattern is interpreted as a regular expression, and has match groups. To actually get the groups, use str.extract.\n",
      "  df['ContainsPattern'] = df['CustomerPhone'].str.contains(pattern)\n"
     ]
    }
   ],
   "source": [
    "# List of phone number patterns\n",
    "phone_patterns = [\n",
    "    r'^\\d{3}.\\d{3}.\\d{4}$',                  # 123.456.7890\n",
    "    r'^(\\d{3}-|\\(\\d{3}\\) )?\\d{3}-\\d{4}$',  # (123) 456-7890 or 123-456-7890\n",
    "    r'^\\+\\d{1,2} \\(\\d{3}\\) \\d{3}-\\d{4}$',  # +1 (123) 456-7890\n",
    "    r'^\\d{3}[-.]?\\d{3}[-.]?\\d{4}$',        # 123-456-7890 or 1234567890\n",
    "    r'^1-800-\\d{3}-\\d{4}$',                # 1-800-123-4567\n",
    "    r'^(\\(\\d{3}\\) \\d{3}-\\d{4}|\\d{3}[-.]?\\d{3}[-.]?\\d{4})$',  # (123) 456-7890 or 123-456-7890 or 123.456.7890\n",
    "]\n",
    "\n",
    "# Initialize a dictionary to store counts for each pattern\n",
    "pattern_counts = {pattern: 0 for pattern in phone_patterns}\n",
    "\n",
    "# Iterate through patterns and count occurrences\n",
    "for pattern in phone_patterns:\n",
    "    df['ContainsPattern'] = df['CustomerPhone'].str.contains(pattern)\n",
    "    count = df['ContainsPattern'].sum()\n",
    "    pattern_counts[pattern] = count\n",
    "\n",
    "# Print the counts for each pattern\n",
    "for pattern, count in pattern_counts.items():\n",
    "    print(f\"Pattern '{pattern}': {count} occurrences\")\n",
    "\n",
    "# Optional: Drop the temporary 'ContainsPattern' column\n",
    "df.drop(columns=['ContainsPattern'], inplace=True)"
   ]
  },
  {
   "cell_type": "code",
   "execution_count": 57,
   "metadata": {},
   "outputs": [
    {
     "name": "stdout",
     "output_type": "stream",
     "text": [
      "CustomerPhone\n",
      "False    4624\n",
      "True      386\n",
      "Name: count, dtype: int64\n"
     ]
    }
   ],
   "source": [
    "# check for phone regex in CustomerPhone column\n",
    "print(df['CustomerPhone'].str.contains(r'^\\d{3}-\\d{3}-\\d{4}$').value_counts())"
   ]
  },
  {
   "cell_type": "markdown",
   "metadata": {},
   "source": [
    "## CustomerSegment exploration"
   ]
  },
  {
   "cell_type": "code",
   "execution_count": 69,
   "metadata": {},
   "outputs": [
    {
     "data": {
      "text/plain": [
       "array(['Silver', 'Gold', 'Bronze'], dtype=object)"
      ]
     },
     "execution_count": 69,
     "metadata": {},
     "output_type": "execute_result"
    }
   ],
   "source": [
    "df['CustomerSegment'].unique()"
   ]
  },
  {
   "cell_type": "markdown",
   "metadata": {},
   "source": [
    "## SupplierName & SupplierLocation & SupplierContact"
   ]
  },
  {
   "cell_type": "code",
   "execution_count": 70,
   "metadata": {},
   "outputs": [
    {
     "data": {
      "text/plain": [
       "array(['Rodriguez, Winters and Perez', 'Lawson-Wilkins', 'Lee-Miller',\n",
       "       'Soto-Rivera', 'Campos-Murillo', 'Wagner, Jackson and Holt',\n",
       "       'White and Sons', 'Brown-Miller', 'Colon, Palmer and Welch',\n",
       "       'Mack, Wright and Mclaughlin', 'Roman-Chambers',\n",
       "       'Mathis, Olson and Ryan', 'Peck Group', 'Ramirez, Hicks and Lara',\n",
       "       'Smith PLC', 'Gilbert, Miller and Lee', 'Higgins and Sons',\n",
       "       'King-Rodriguez', 'Randall-Ballard', 'Thornton, Jackson and Gray'],\n",
       "      dtype=object)"
      ]
     },
     "execution_count": 70,
     "metadata": {},
     "output_type": "execute_result"
    }
   ],
   "source": [
    "df[\"SupplierName\"].unique()"
   ]
  },
  {
   "cell_type": "code",
   "execution_count": 71,
   "metadata": {},
   "outputs": [
    {
     "data": {
      "text/plain": [
       "array(['Irwinhaven', 'Calderonchester', 'South Emilyview', 'West Denise',\n",
       "       'Lawsontown', 'Port Sarahview', 'West Scott', 'Seanfort',\n",
       "       'Antonioshire', 'Alexandrachester', 'Dennischester', 'Herreraland',\n",
       "       'West Lindafurt', 'Dustinmouth', 'Lake Candiceton',\n",
       "       'Lake Juanland', 'West Johnbury', 'South Lindatown', 'Popeport',\n",
       "       'Leslieville'], dtype=object)"
      ]
     },
     "execution_count": 71,
     "metadata": {},
     "output_type": "execute_result"
    }
   ],
   "source": [
    "df['SupplierLocation'].unique()"
   ]
  },
  {
   "cell_type": "code",
   "execution_count": 75,
   "metadata": {},
   "outputs": [
    {
     "data": {
      "text/plain": [
       "0       263\n",
       "1       244\n",
       "2       256\n",
       "3       224\n",
       "4       263\n",
       "       ... \n",
       "5005    254\n",
       "5006    254\n",
       "5007    254\n",
       "5008    254\n",
       "5009    254\n",
       "Name: SupplierLocation, Length: 5010, dtype: int64"
      ]
     },
     "execution_count": 75,
     "metadata": {},
     "output_type": "execute_result"
    }
   ],
   "source": [
    "df.groupby('SupplierName')['SupplierLocation'].transform('count')"
   ]
  },
  {
   "cell_type": "code",
   "execution_count": 76,
   "metadata": {},
   "outputs": [
    {
     "data": {
      "text/plain": [
       "array(['6538306661', nan, '+1-588-750-7646', '805-650-6257x5876',\n",
       "       '822-222-4939', '+1-362-752-2777x1817', '288-572-7043',\n",
       "       '(502)758-2166', '230-757-6575x898', '856-399-9995x715',\n",
       "       '001-324-909-1637x2831', '(906)306-1777x264', '+1-838-976-6137',\n",
       "       '(277)930-2705x3206', '459-301-8580', '+1-619-677-8121x28226',\n",
       "       '230-568-4141', '7724600682', '933.564.7029x6917', '853-738-3918',\n",
       "       '001-575-242-3572x740'], dtype=object)"
      ]
     },
     "execution_count": 76,
     "metadata": {},
     "output_type": "execute_result"
    }
   ],
   "source": [
    "df['SupplierContact'].unique()"
   ]
  },
  {
   "cell_type": "markdown",
   "metadata": {},
   "source": [
    "## Shipper & ShippingMethod"
   ]
  },
  {
   "cell_type": "code",
   "execution_count": 79,
   "metadata": {},
   "outputs": [
    {
     "data": {
      "text/plain": [
       "array(['and Sons', 'PLC', 'LLC', 'Ltd', 'Inc', 'Group'], dtype=object)"
      ]
     },
     "execution_count": 79,
     "metadata": {},
     "output_type": "execute_result"
    }
   ],
   "source": [
    "df['ShipperName'].unique()"
   ]
  },
  {
   "cell_type": "code",
   "execution_count": 80,
   "metadata": {},
   "outputs": [
    {
     "data": {
      "text/plain": [
       "array(['Ground', 'Air', 'Sea'], dtype=object)"
      ]
     },
     "execution_count": 80,
     "metadata": {},
     "output_type": "execute_result"
    }
   ],
   "source": [
    "df['ShippingMethod'].unique()"
   ]
  },
  {
   "cell_type": "markdown",
   "metadata": {},
   "source": [
    "## QuantitySold & TotalAmount & DiscountAmount & NetAmount "
   ]
  },
  {
   "cell_type": "code",
   "execution_count": 82,
   "metadata": {},
   "outputs": [
    {
     "data": {
      "text/plain": [
       "count    5010.000000\n",
       "mean       50.827146\n",
       "std        28.523303\n",
       "min         1.000000\n",
       "25%        26.000000\n",
       "50%        50.000000\n",
       "75%        76.000000\n",
       "max       100.000000\n",
       "Name: QuantitySold, dtype: float64"
      ]
     },
     "execution_count": 82,
     "metadata": {},
     "output_type": "execute_result"
    }
   ],
   "source": [
    "df['QuantitySold'].describe()"
   ]
  },
  {
   "cell_type": "code",
   "execution_count": 83,
   "metadata": {},
   "outputs": [
    {
     "data": {
      "text/plain": [
       "count     5010.000000\n",
       "mean     28851.529621\n",
       "std      23139.578225\n",
       "min         46.230000\n",
       "25%       8864.130000\n",
       "50%      23546.135000\n",
       "75%      42985.950000\n",
       "max      99513.000000\n",
       "Name: TotalAmount, dtype: float64"
      ]
     },
     "execution_count": 83,
     "metadata": {},
     "output_type": "execute_result"
    }
   ],
   "source": [
    "df['TotalAmount'].describe()"
   ]
  },
  {
   "cell_type": "code",
   "execution_count": 84,
   "metadata": {},
   "outputs": [
    {
     "data": {
      "text/plain": [
       "count    5010.000000\n",
       "mean       86.425236\n",
       "std        70.574899\n",
       "min         0.010000\n",
       "25%        25.685000\n",
       "50%        69.345000\n",
       "75%       129.277500\n",
       "max       298.110000\n",
       "Name: DiscountAmount, dtype: float64"
      ]
     },
     "execution_count": 84,
     "metadata": {},
     "output_type": "execute_result"
    }
   ],
   "source": [
    "df['DiscountAmount'].describe()"
   ]
  },
  {
   "cell_type": "code",
   "execution_count": 85,
   "metadata": {},
   "outputs": [
    {
     "data": {
      "text/plain": [
       "count     5010.000000\n",
       "mean     28765.104385\n",
       "std      23112.635714\n",
       "min         33.600000\n",
       "25%       8774.435000\n",
       "50%      23424.750000\n",
       "75%      42886.600000\n",
       "max      99276.950000\n",
       "Name: NetAmount, dtype: float64"
      ]
     },
     "execution_count": 85,
     "metadata": {},
     "output_type": "execute_result"
    }
   ],
   "source": [
    "df['NetAmount'].describe()"
   ]
  },
  {
   "cell_type": "markdown",
   "metadata": {},
   "source": [
    "## StockReceived & Stocksold & StockOnHand"
   ]
  },
  {
   "cell_type": "code",
   "execution_count": 86,
   "metadata": {},
   "outputs": [
    {
     "data": {
      "text/plain": [
       "count    5010.000000\n",
       "mean      277.074052\n",
       "std       130.330697\n",
       "min        50.000000\n",
       "25%       164.000000\n",
       "50%       279.000000\n",
       "75%       393.000000\n",
       "max       500.000000\n",
       "Name: StockReceived, dtype: float64"
      ]
     },
     "execution_count": 86,
     "metadata": {},
     "output_type": "execute_result"
    }
   ],
   "source": [
    "df['StockReceived'].describe()"
   ]
  },
  {
   "cell_type": "code",
   "execution_count": 87,
   "metadata": {},
   "outputs": [
    {
     "data": {
      "text/plain": [
       "count    5010.000000\n",
       "mean      139.116966\n",
       "std       111.016370\n",
       "min         1.000000\n",
       "25%        49.000000\n",
       "50%       109.000000\n",
       "75%       209.000000\n",
       "max       498.000000\n",
       "Name: StockSold, dtype: float64"
      ]
     },
     "execution_count": 87,
     "metadata": {},
     "output_type": "execute_result"
    }
   ],
   "source": [
    "df['StockSold'].describe()"
   ]
  },
  {
   "cell_type": "code",
   "execution_count": 88,
   "metadata": {},
   "outputs": [
    {
     "data": {
      "text/plain": [
       "0"
      ]
     },
     "execution_count": 88,
     "metadata": {},
     "output_type": "execute_result"
    }
   ],
   "source": [
    "len(df[df['StockReceived'] < df['StockSold']])"
   ]
  },
  {
   "cell_type": "code",
   "execution_count": 89,
   "metadata": {},
   "outputs": [
    {
     "data": {
      "text/plain": [
       "count    5010.000000\n",
       "mean      137.957086\n",
       "std       110.360693\n",
       "min         0.000000\n",
       "25%        49.000000\n",
       "50%       107.000000\n",
       "75%       206.000000\n",
       "max       490.000000\n",
       "Name: StockOnHand, dtype: float64"
      ]
     },
     "execution_count": 89,
     "metadata": {},
     "output_type": "execute_result"
    }
   ],
   "source": [
    "df['StockOnHand'].describe()"
   ]
  },
  {
   "cell_type": "markdown",
   "metadata": {},
   "source": [
    "## Checking relations validation"
   ]
  },
  {
   "cell_type": "code",
   "execution_count": 20,
   "metadata": {},
   "outputs": [
    {
     "data": {
      "text/plain": [
       "Date        ShipperName  ShippingMethod  ProductID                             CustomerName     \n",
       "01-01-2022  PLC          Air             RobertElectronicsMobile               Joanna Robinson      1\n",
       "01-01-2023  Inc          Sea             ShawnElectronicsHeadphones            Latoya Reilly        1\n",
       "01-02-2022  Ltd          Air             KatieBooksNon-fiction                 Charlene Sanchez     1\n",
       "01-03-2022  and Sons     Air             NonExistentProductToysAction Figures  Christopher Wolfe    1\n",
       "01-03-2023  LLC          Air             JamieBooksFiction                     Elizabeth Olsen      1\n",
       "                                                                                                   ..\n",
       "2023-09-28  PLC          Sea             NathanielElectronicsCamera            Jason Marshall       1\n",
       "            and Sons     Air             ElizabethClothingShirt                Ashley Carter        1\n",
       "                         Ground          RobertElectronicsMobile               Kathryn Long         1\n",
       "                                         TammyHome & GardenFurniture           Danielle Moore       1\n",
       "                         Sea             NonExistentProductElectronicsMobile   Susan Smith          1\n",
       "Name: TotalAmount, Length: 5000, dtype: int64"
      ]
     },
     "execution_count": 20,
     "metadata": {},
     "output_type": "execute_result"
    }
   ],
   "source": [
    "# Chec fact Sales\n",
    "df.groupby([\"Date\", 'ShipperName', 'ShippingMethod',\"ProductID\", \"CustomerName\"])['TotalAmount'].count()"
   ]
  },
  {
   "cell_type": "code",
   "execution_count": 13,
   "metadata": {},
   "outputs": [
    {
     "name": "stdout",
     "output_type": "stream",
     "text": [
      "46\n"
     ]
    }
   ],
   "source": [
    "grouped = df.groupby(['Date',  'SupplierLocation', 'SupplierName', 'priceJdid'])['StockOnHand'].count()\n",
    "filtered_grouped = grouped[grouped > 1]\n",
    "\n",
    "print(len(filtered_grouped))"
   ]
  },
  {
   "cell_type": "code",
   "execution_count": 14,
   "metadata": {},
   "outputs": [],
   "source": [
    "df['priceJdid'] = df['TotalAmount'] / df['QuantitySold']\n",
    "# round to 0 decimal\n",
    "df['priceJdid'] = df['priceJdid'].round(0)"
   ]
  },
  {
   "cell_type": "code",
   "execution_count": null,
   "metadata": {},
   "outputs": [],
   "source": []
  },
  {
   "cell_type": "code",
   "execution_count": 15,
   "metadata": {},
   "outputs": [
    {
     "data": {
      "text/plain": [
       "ProductID\n",
       "NonExistentProductBooksAcademic                                     [952.0, 693.0]\n",
       "NonExistentProductBooksFiction                                      [433.0, 930.0]\n",
       "NonExistentProductClothingShirt                                     [995.0, 840.0]\n",
       "NonExistentProductElectronicsHeadphones        [660.0, 873.0, 651.0, 461.0, 229.0]\n",
       "NonExistentProductInvalidCategoryAcademic                           [693.0, 952.0]\n",
       "NonExistentProductInvalidCategoryFiction                            [433.0, 930.0]\n",
       "NonExistentProductInvalidCategoryHeadphones           [651.0, 461.0, 873.0, 660.0]\n",
       "NonExistentProductInvalidCategoryShirt                              [840.0, 995.0]\n",
       "Name: priceJdid, dtype: object"
      ]
     },
     "execution_count": 15,
     "metadata": {},
     "output_type": "execute_result"
    }
   ],
   "source": [
    "grouped = df.groupby(['ProductID'])['priceJdid'].unique()\n",
    "filtered_grouped = grouped[grouped.str.len() > 1] \n",
    "\n",
    "filtered_grouped"
   ]
  }
 ],
 "metadata": {
  "kernelspec": {
   "display_name": "Python 3",
   "language": "python",
   "name": "python3"
  },
  "language_info": {
   "codemirror_mode": {
    "name": "ipython",
    "version": 3
   },
   "file_extension": ".py",
   "mimetype": "text/x-python",
   "name": "python",
   "nbconvert_exporter": "python",
   "pygments_lexer": "ipython3",
   "version": "3.11.6"
  },
  "orig_nbformat": 4
 },
 "nbformat": 4,
 "nbformat_minor": 2
}
